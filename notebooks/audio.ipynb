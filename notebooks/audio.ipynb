{
 "cells": [
  {
   "cell_type": "code",
   "execution_count": 2,
   "metadata": {
    "editable": true,
    "slideshow": {
     "slide_type": ""
    },
    "tags": []
   },
   "outputs": [
    {
     "name": "stderr",
     "output_type": "stream",
     "text": [
      "/Users/julian_castro/Library/Caches/pypoetry/virtualenvs/audio-app-SXhKY1sN-py3.9/lib/python3.9/site-packages/tqdm/auto.py:21: TqdmWarning: IProgress not found. Please update jupyter and ipywidgets. See https://ipywidgets.readthedocs.io/en/stable/user_install.html\n",
      "  from .autonotebook import tqdm as notebook_tqdm\n"
     ]
    }
   ],
   "source": [
    "import os\n",
    "import json\n",
    "import pandas as pd\n",
    "from glob import glob\n",
    "import torch\n",
    "from IPython.display import Audio as player\n",
    "from panns_inference import AudioTagging\n",
    "from qdrant_client import QdrantClient\n",
    "from qdrant_client.http import models\n",
    "from utils.audio import download_kaggle_dataset, generate_random_dataset"
   ]
  },
  {
   "cell_type": "code",
   "execution_count": 38,
   "metadata": {},
   "outputs": [
    {
     "name": "stdout",
     "output_type": "stream",
     "text": [
      "Dataset URL: https://www.kaggle.com/datasets/jorgeruizdev/ludwig-music-dataset-moods-and-subgenres\n",
      "License(s): CC-BY-NC-SA-4.0\n",
      "Downloading ludwig-music-dataset-moods-and-subgenres.zip to /Users/julian_castro/Documents/projects/audio_app/notebooks\n"
     ]
    },
    {
     "name": "stderr",
     "output_type": "stream",
     "text": [
      "100%|██████████| 11.3G/11.3G [07:55<00:00, 25.5MB/s]  \n"
     ]
    },
    {
     "name": "stdout",
     "output_type": "stream",
     "text": [
      "\n"
     ]
    }
   ],
   "source": [
    "download_kaggle_dataset(\"jorgeruizdev/ludwig-music-dataset-moods-and-subgenres\")"
   ]
  },
  {
   "cell_type": "code",
   "execution_count": null,
   "metadata": {},
   "outputs": [
    {
     "name": "stdout",
     "output_type": "stream",
     "text": [
      "Loading latin...\n",
      "Loading pop...\n",
      "Loading reggae...\n",
      "Loading rock...\n",
      "Loading electronic...\n",
      "<class 'datasets.arrow_dataset.Dataset'>\n",
      "{'audio': {'path': '/Users/julian_castro/Documents/projects/audio_app/data/ludwig-music-dataset-moods-and-subgenres/mp3/mp3/electronic/0vsOxIBK36keLH8Bezie9A.mp3', 'array': array([ 0.00000000e+00, -8.69972094e-09, -4.86083040e-09, ...,\n",
      "       -1.59396112e-01, -1.23613618e-01, -1.67727619e-01]), 'sampling_rate': 44100}}\n"
     ]
    }
   ],
   "source": [
    "genres = [\"latin\", \"pop\", \"reggae\", \"rock\", \"electronic\"]\n",
    "data_set = generate_random_dataset(genres, 130)\n",
    "print(type(data_set))\n",
    "item = data_set[0]\n",
    "print(item)"
   ]
  },
  {
   "cell_type": "code",
   "execution_count": 6,
   "metadata": {},
   "outputs": [
    {
     "data": {
      "text/plain": [
       "['0vsOxIBK36keLH8Bezie9A',\n",
       " '0jmfiZP6MBtrORE1vpvFWU',\n",
       " '3ddxZzCKZpTObDygewlwXB',\n",
       " '3GCucY8KSMS80NEU0ey0by']"
      ]
     },
     "execution_count": 6,
     "metadata": {},
     "output_type": "execute_result"
    }
   ],
   "source": [
    "ids = [\n",
    "    (data_set[i][\"audio\"][\"path\"].split(\"/\")[-1].replace(\".mp3\", \"\"))\n",
    "    for i in range(len(data_set))\n",
    "]\n",
    "\n",
    "index = [num for num in range(len(data_set))]\n",
    "ids[:4]"
   ]
  },
  {
   "cell_type": "code",
   "execution_count": 7,
   "metadata": {},
   "outputs": [
    {
     "data": {
      "text/plain": [
       "{'audio': {'path': '/Users/julian_castro/Documents/projects/audio_app/data/ludwig-music-dataset-moods-and-subgenres/mp3/mp3/latin/6K5UtSAXChS6Rpm2NZJnrF.mp3',\n",
       "  'array': array([ 0.00000000e+00, -4.89616880e-09,  3.03772474e-09, ...,\n",
       "         -3.03649858e-01, -3.14786166e-01, -2.29230180e-01]),\n",
       "  'sampling_rate': 44100},\n",
       " 'index': 649,\n",
       " 'id': '6K5UtSAXChS6Rpm2NZJnrF'}"
      ]
     },
     "execution_count": 7,
     "metadata": {},
     "output_type": "execute_result"
    }
   ],
   "source": [
    "data_set = data_set.add_column(\"index\", index)\n",
    "data_set = data_set.add_column(\"id\", ids)\n",
    "data_set[-1]"
   ]
  },
  {
   "cell_type": "code",
   "execution_count": 13,
   "metadata": {},
   "outputs": [
    {
     "data": {
      "text/html": [
       "<div>\n",
       "<style scoped>\n",
       "    .dataframe tbody tr th:only-of-type {\n",
       "        vertical-align: middle;\n",
       "    }\n",
       "\n",
       "    .dataframe tbody tr th {\n",
       "        vertical-align: top;\n",
       "    }\n",
       "\n",
       "    .dataframe thead th {\n",
       "        text-align: right;\n",
       "    }\n",
       "</style>\n",
       "<table border=\"1\" class=\"dataframe\">\n",
       "  <thead>\n",
       "    <tr style=\"text-align: right;\">\n",
       "      <th></th>\n",
       "      <th>tracks</th>\n",
       "    </tr>\n",
       "  </thead>\n",
       "  <tbody>\n",
       "    <tr>\n",
       "      <th>35ecMLCJ1x2giJuvHLrI1t</th>\n",
       "      <td>{'otherSubgenres': {'L': [{'S': 'electronic---...</td>\n",
       "    </tr>\n",
       "    <tr>\n",
       "      <th>3p0EUhkUeCNrBIZwkjmeYe</th>\n",
       "      <td>{'otherSubgenres': {'L': []}, 'artist': {'S': ...</td>\n",
       "    </tr>\n",
       "    <tr>\n",
       "      <th>0rb6HvdvWJRkyhxsfFf1ep</th>\n",
       "      <td>{'otherSubgenres': {'L': [{'S': 'rock'}, {'S':...</td>\n",
       "    </tr>\n",
       "    <tr>\n",
       "      <th>4ssD5IkaicvM3L2Ff8FPWQ</th>\n",
       "      <td>{'otherSubgenres': {'L': []}, 'artist': {'S': ...</td>\n",
       "    </tr>\n",
       "    <tr>\n",
       "      <th>586ncAs8cYRTBlrxMDfmSP</th>\n",
       "      <td>{'otherSubgenres': {'L': [{'S': 'electronic---...</td>\n",
       "    </tr>\n",
       "  </tbody>\n",
       "</table>\n",
       "</div>"
      ],
      "text/plain": [
       "                                                                   tracks\n",
       "35ecMLCJ1x2giJuvHLrI1t  {'otherSubgenres': {'L': [{'S': 'electronic---...\n",
       "3p0EUhkUeCNrBIZwkjmeYe  {'otherSubgenres': {'L': []}, 'artist': {'S': ...\n",
       "0rb6HvdvWJRkyhxsfFf1ep  {'otherSubgenres': {'L': [{'S': 'rock'}, {'S':...\n",
       "4ssD5IkaicvM3L2Ff8FPWQ  {'otherSubgenres': {'L': []}, 'artist': {'S': ...\n",
       "586ncAs8cYRTBlrxMDfmSP  {'otherSubgenres': {'L': [{'S': 'electronic---..."
      ]
     },
     "execution_count": 13,
     "metadata": {},
     "output_type": "execute_result"
    }
   ],
   "source": [
    "label_path = \"./../data/ludwig-music-dataset-moods-and-subgenres/labels.json\"\n",
    "labels = pd.read_json(label_path)\n",
    "labels.head()"
   ]
  },
  {
   "cell_type": "code",
   "execution_count": 14,
   "metadata": {},
   "outputs": [],
   "source": [
    "def get_metadata(item: dict) -> pd.Series:\n",
    "    cols = [\"artist\", \"genre\", \"name\", \"subgenres\", \"sad\", \"happy\", \"party\", \"popularity\"]\n",
    "    list_of_cols = []\n",
    "    for col in cols:\n",
    "        try:\n",
    "            mdata = list(item[col].values())[0]\n",
    "        except:\n",
    "            mdata = \"Unknown\"\n",
    "        list_of_cols.append(mdata)\n",
    "    \n",
    "    return pd.Series(list_of_cols, index=cols)"
   ]
  },
  {
   "cell_type": "code",
   "execution_count": 15,
   "metadata": {},
   "outputs": [
    {
     "data": {
      "text/html": [
       "<div>\n",
       "<style scoped>\n",
       "    .dataframe tbody tr th:only-of-type {\n",
       "        vertical-align: middle;\n",
       "    }\n",
       "\n",
       "    .dataframe tbody tr th {\n",
       "        vertical-align: top;\n",
       "    }\n",
       "\n",
       "    .dataframe thead th {\n",
       "        text-align: right;\n",
       "    }\n",
       "</style>\n",
       "<table border=\"1\" class=\"dataframe\">\n",
       "  <thead>\n",
       "    <tr style=\"text-align: right;\">\n",
       "      <th></th>\n",
       "      <th>index</th>\n",
       "      <th>artist</th>\n",
       "      <th>genre</th>\n",
       "      <th>name</th>\n",
       "      <th>subgenres</th>\n",
       "      <th>sad</th>\n",
       "      <th>happy</th>\n",
       "      <th>party</th>\n",
       "      <th>popularity</th>\n",
       "    </tr>\n",
       "  </thead>\n",
       "  <tbody>\n",
       "    <tr>\n",
       "      <th>0</th>\n",
       "      <td>35ecMLCJ1x2giJuvHLrI1t</td>\n",
       "      <td>Riovolt</td>\n",
       "      <td>electronic</td>\n",
       "      <td>It Ain't Over 'till It's Over</td>\n",
       "      <td>[{'S': 'electronic---ambient'}, {'S': 'electro...</td>\n",
       "      <td>0.808553755283</td>\n",
       "      <td>0.117319412529</td>\n",
       "      <td>0.0187958143651</td>\n",
       "      <td>31</td>\n",
       "    </tr>\n",
       "    <tr>\n",
       "      <th>1</th>\n",
       "      <td>3p0EUhkUeCNrBIZwkjmeYe</td>\n",
       "      <td>R.L. Burnside</td>\n",
       "      <td>blues</td>\n",
       "      <td>Fireman Ring the Bell</td>\n",
       "      <td>[{'S': 'blues---country blues'}]</td>\n",
       "      <td>0.192250967026</td>\n",
       "      <td>0.589263141155</td>\n",
       "      <td>0.000199172980501</td>\n",
       "      <td>30</td>\n",
       "    </tr>\n",
       "    <tr>\n",
       "      <th>2</th>\n",
       "      <td>0rb6HvdvWJRkyhxsfFf1ep</td>\n",
       "      <td>Chapterhouse</td>\n",
       "      <td>rock</td>\n",
       "      <td>Falling Down</td>\n",
       "      <td>[{'S': 'rock---shoegaze'}]</td>\n",
       "      <td>0.0304505825043</td>\n",
       "      <td>0.447863191366</td>\n",
       "      <td>0.909360527992</td>\n",
       "      <td>36</td>\n",
       "    </tr>\n",
       "    <tr>\n",
       "      <th>3</th>\n",
       "      <td>4ssD5IkaicvM3L2Ff8FPWQ</td>\n",
       "      <td>Lowell Fulsom</td>\n",
       "      <td>funk / soul</td>\n",
       "      <td>Tramp</td>\n",
       "      <td>[{'S': 'funk / soul---rhythm &amp; blues'}]</td>\n",
       "      <td>0.584066450596</td>\n",
       "      <td>0.448383301497</td>\n",
       "      <td>0.19365106523</td>\n",
       "      <td>30</td>\n",
       "    </tr>\n",
       "    <tr>\n",
       "      <th>4</th>\n",
       "      <td>586ncAs8cYRTBlrxMDfmSP</td>\n",
       "      <td>Paul Ellis</td>\n",
       "      <td>electronic</td>\n",
       "      <td>Dissolve</td>\n",
       "      <td>[{'S': 'electronic---ambient'}]</td>\n",
       "      <td>0.515594601631</td>\n",
       "      <td>0.371642351151</td>\n",
       "      <td>0.0393997617066</td>\n",
       "      <td>0</td>\n",
       "    </tr>\n",
       "  </tbody>\n",
       "</table>\n",
       "</div>"
      ],
      "text/plain": [
       "                    index         artist        genre  \\\n",
       "0  35ecMLCJ1x2giJuvHLrI1t        Riovolt   electronic   \n",
       "1  3p0EUhkUeCNrBIZwkjmeYe  R.L. Burnside        blues   \n",
       "2  0rb6HvdvWJRkyhxsfFf1ep   Chapterhouse         rock   \n",
       "3  4ssD5IkaicvM3L2Ff8FPWQ  Lowell Fulsom  funk / soul   \n",
       "4  586ncAs8cYRTBlrxMDfmSP     Paul Ellis   electronic   \n",
       "\n",
       "                            name  \\\n",
       "0  It Ain't Over 'till It's Over   \n",
       "1          Fireman Ring the Bell   \n",
       "2                   Falling Down   \n",
       "3                          Tramp   \n",
       "4                       Dissolve   \n",
       "\n",
       "                                           subgenres              sad  \\\n",
       "0  [{'S': 'electronic---ambient'}, {'S': 'electro...   0.808553755283   \n",
       "1                   [{'S': 'blues---country blues'}]   0.192250967026   \n",
       "2                         [{'S': 'rock---shoegaze'}]  0.0304505825043   \n",
       "3            [{'S': 'funk / soul---rhythm & blues'}]   0.584066450596   \n",
       "4                    [{'S': 'electronic---ambient'}]   0.515594601631   \n",
       "\n",
       "            happy              party popularity  \n",
       "0  0.117319412529    0.0187958143651         31  \n",
       "1  0.589263141155  0.000199172980501         30  \n",
       "2  0.447863191366     0.909360527992         36  \n",
       "3  0.448383301497      0.19365106523         30  \n",
       "4  0.371642351151    0.0393997617066          0  "
      ]
     },
     "execution_count": 15,
     "metadata": {},
     "output_type": "execute_result"
    }
   ],
   "source": [
    "labels = labels[\"tracks\"].apply(get_metadata).reset_index()\n",
    "labels.head()"
   ]
  },
  {
   "cell_type": "code",
   "execution_count": 17,
   "metadata": {},
   "outputs": [],
   "source": [
    "def get_vals_from_subgenres(genres: list) -> list:\n",
    "    genre_list = []\n",
    "    for d in genres:\n",
    "        if type(d) != str:\n",
    "            for _, val in d.items():\n",
    "                genre_list.append(val)\n",
    "    \n",
    "    return genre_list"
   ]
  },
  {
   "cell_type": "code",
   "execution_count": 18,
   "metadata": {},
   "outputs": [
    {
     "data": {
      "text/plain": [
       "0    [electronic---ambient, electronic---downtempo,...\n",
       "1                              [blues---country blues]\n",
       "2                                    [rock---shoegaze]\n",
       "3                       [funk / soul---rhythm & blues]\n",
       "4                               [electronic---ambient]\n",
       "Name: subgenres, dtype: object"
      ]
     },
     "execution_count": 18,
     "metadata": {},
     "output_type": "execute_result"
    }
   ],
   "source": [
    "labels[\"subgenres\"] = labels[\"subgenres\"].apply(get_vals_from_subgenres)\n",
    "labels[\"subgenres\"].head()"
   ]
  },
  {
   "cell_type": "code",
   "execution_count": 20,
   "metadata": {},
   "outputs": [
    {
     "data": {
      "text/html": [
       "<div>\n",
       "<style scoped>\n",
       "    .dataframe tbody tr th:only-of-type {\n",
       "        vertical-align: middle;\n",
       "    }\n",
       "\n",
       "    .dataframe tbody tr th {\n",
       "        vertical-align: top;\n",
       "    }\n",
       "\n",
       "    .dataframe thead th {\n",
       "        text-align: right;\n",
       "    }\n",
       "</style>\n",
       "<table border=\"1\" class=\"dataframe\">\n",
       "  <thead>\n",
       "    <tr style=\"text-align: right;\">\n",
       "      <th></th>\n",
       "      <th>id</th>\n",
       "      <th>url</th>\n",
       "    </tr>\n",
       "  </thead>\n",
       "  <tbody>\n",
       "    <tr>\n",
       "      <th>0</th>\n",
       "      <td>5f1SjUy6ySgaEUIIy2m9l4</td>\n",
       "      <td>./../data/ludwig-music-dataset-moods-and-subge...</td>\n",
       "    </tr>\n",
       "    <tr>\n",
       "      <th>1</th>\n",
       "      <td>03tbpnBQ9kiAL8GX0ouZUG</td>\n",
       "      <td>./../data/ludwig-music-dataset-moods-and-subge...</td>\n",
       "    </tr>\n",
       "    <tr>\n",
       "      <th>2</th>\n",
       "      <td>67wqhzuPtGbZNYG1eVoLsd</td>\n",
       "      <td>./../data/ludwig-music-dataset-moods-and-subge...</td>\n",
       "    </tr>\n",
       "    <tr>\n",
       "      <th>3</th>\n",
       "      <td>0YfDtPub9AsTu4278mDWJE</td>\n",
       "      <td>./../data/ludwig-music-dataset-moods-and-subge...</td>\n",
       "    </tr>\n",
       "    <tr>\n",
       "      <th>4</th>\n",
       "      <td>7vH4D94WWhAdjll6b62wiw</td>\n",
       "      <td>./../data/ludwig-music-dataset-moods-and-subge...</td>\n",
       "    </tr>\n",
       "  </tbody>\n",
       "</table>\n",
       "</div>"
      ],
      "text/plain": [
       "                       id                                                url\n",
       "0  5f1SjUy6ySgaEUIIy2m9l4  ./../data/ludwig-music-dataset-moods-and-subge...\n",
       "1  03tbpnBQ9kiAL8GX0ouZUG  ./../data/ludwig-music-dataset-moods-and-subge...\n",
       "2  67wqhzuPtGbZNYG1eVoLsd  ./../data/ludwig-music-dataset-moods-and-subge...\n",
       "3  0YfDtPub9AsTu4278mDWJE  ./../data/ludwig-music-dataset-moods-and-subge...\n",
       "4  7vH4D94WWhAdjll6b62wiw  ./../data/ludwig-music-dataset-moods-and-subge..."
      ]
     },
     "execution_count": 20,
     "metadata": {},
     "output_type": "execute_result"
    }
   ],
   "source": [
    "files = []\n",
    "for genre in genres:\n",
    "    files_path = os.path.join(\"./../data/ludwig-music-dataset-moods-and-subgenres\", \"mp3\", \"mp3\", genre, \"*.mp3\")\n",
    "    genre_files = glob(files_path)\n",
    "    files.extend(genre_files)\n",
    "\n",
    "ids = [file.split(\"/\")[-1].replace(\".mp3\", \"\") for file in files]\n",
    "music_paths = pd.DataFrame(zip(ids, files), columns=[\"id\", \"url\"])\n",
    "music_paths.head()"
   ]
  },
  {
   "cell_type": "code",
   "execution_count": 21,
   "metadata": {},
   "outputs": [
    {
     "data": {
      "text/html": [
       "<div>\n",
       "<style scoped>\n",
       "    .dataframe tbody tr th:only-of-type {\n",
       "        vertical-align: middle;\n",
       "    }\n",
       "\n",
       "    .dataframe tbody tr th {\n",
       "        vertical-align: top;\n",
       "    }\n",
       "\n",
       "    .dataframe thead th {\n",
       "        text-align: right;\n",
       "    }\n",
       "</style>\n",
       "<table border=\"1\" class=\"dataframe\">\n",
       "  <thead>\n",
       "    <tr style=\"text-align: right;\">\n",
       "      <th></th>\n",
       "      <th>index</th>\n",
       "      <th>id</th>\n",
       "      <th>artist</th>\n",
       "      <th>genre</th>\n",
       "      <th>name</th>\n",
       "      <th>subgenres</th>\n",
       "      <th>sad</th>\n",
       "      <th>happy</th>\n",
       "      <th>party</th>\n",
       "      <th>popularity</th>\n",
       "      <th>url</th>\n",
       "    </tr>\n",
       "  </thead>\n",
       "  <tbody>\n",
       "    <tr>\n",
       "      <th>0</th>\n",
       "      <td>0</td>\n",
       "      <td>0vsOxIBK36keLH8Bezie9A</td>\n",
       "      <td>Pendulum</td>\n",
       "      <td>electronic</td>\n",
       "      <td>Different</td>\n",
       "      <td>[electronic---drum n bass]</td>\n",
       "      <td>0.159620672464</td>\n",
       "      <td>0.257579416037</td>\n",
       "      <td>0.977688491344</td>\n",
       "      <td>41</td>\n",
       "      <td>./../data/ludwig-music-dataset-moods-and-subge...</td>\n",
       "    </tr>\n",
       "    <tr>\n",
       "      <th>1</th>\n",
       "      <td>1</td>\n",
       "      <td>0jmfiZP6MBtrORE1vpvFWU</td>\n",
       "      <td>Nightmares On Wax</td>\n",
       "      <td>electronic</td>\n",
       "      <td>Be, I Do</td>\n",
       "      <td>[electronic---downtempo, electronic---trip hop...</td>\n",
       "      <td>0.313051044941</td>\n",
       "      <td>0.187118664384</td>\n",
       "      <td>0.399286955595</td>\n",
       "      <td>44</td>\n",
       "      <td>./../data/ludwig-music-dataset-moods-and-subge...</td>\n",
       "    </tr>\n",
       "    <tr>\n",
       "      <th>2</th>\n",
       "      <td>2</td>\n",
       "      <td>3ddxZzCKZpTObDygewlwXB</td>\n",
       "      <td>Slow Magic</td>\n",
       "      <td>electronic</td>\n",
       "      <td>Waited 4 U</td>\n",
       "      <td>[electronic---electro]</td>\n",
       "      <td>0.608639240265</td>\n",
       "      <td>0.105242662132</td>\n",
       "      <td>0.0857971906662</td>\n",
       "      <td>55</td>\n",
       "      <td>./../data/ludwig-music-dataset-moods-and-subge...</td>\n",
       "    </tr>\n",
       "    <tr>\n",
       "      <th>3</th>\n",
       "      <td>3</td>\n",
       "      <td>3GCucY8KSMS80NEU0ey0by</td>\n",
       "      <td>Pendulum</td>\n",
       "      <td>electronic</td>\n",
       "      <td>The Other Side</td>\n",
       "      <td>[electronic---drum n bass]</td>\n",
       "      <td>0.209101587534</td>\n",
       "      <td>0.158047914505</td>\n",
       "      <td>0.991388976574</td>\n",
       "      <td>46</td>\n",
       "      <td>./../data/ludwig-music-dataset-moods-and-subge...</td>\n",
       "    </tr>\n",
       "    <tr>\n",
       "      <th>4</th>\n",
       "      <td>4</td>\n",
       "      <td>12BJTGESsHRonZSBGw9XXi</td>\n",
       "      <td>P-Model</td>\n",
       "      <td>electronic</td>\n",
       "      <td>Goes on Ghost</td>\n",
       "      <td>[electronic---electro, electronic---new wave, ...</td>\n",
       "      <td>0.680889248848</td>\n",
       "      <td>0.449430823326</td>\n",
       "      <td>0.170126751065</td>\n",
       "      <td>7</td>\n",
       "      <td>./../data/ludwig-music-dataset-moods-and-subge...</td>\n",
       "    </tr>\n",
       "  </tbody>\n",
       "</table>\n",
       "</div>"
      ],
      "text/plain": [
       "   index                      id             artist       genre  \\\n",
       "0      0  0vsOxIBK36keLH8Bezie9A           Pendulum  electronic   \n",
       "1      1  0jmfiZP6MBtrORE1vpvFWU  Nightmares On Wax  electronic   \n",
       "2      2  3ddxZzCKZpTObDygewlwXB         Slow Magic  electronic   \n",
       "3      3  3GCucY8KSMS80NEU0ey0by           Pendulum  electronic   \n",
       "4      4  12BJTGESsHRonZSBGw9XXi            P-Model  electronic   \n",
       "\n",
       "             name                                          subgenres  \\\n",
       "0       Different                         [electronic---drum n bass]   \n",
       "1        Be, I Do  [electronic---downtempo, electronic---trip hop...   \n",
       "2      Waited 4 U                             [electronic---electro]   \n",
       "3  The Other Side                         [electronic---drum n bass]   \n",
       "4   Goes on Ghost  [electronic---electro, electronic---new wave, ...   \n",
       "\n",
       "              sad           happy            party popularity  \\\n",
       "0  0.159620672464  0.257579416037   0.977688491344         41   \n",
       "1  0.313051044941  0.187118664384   0.399286955595         44   \n",
       "2  0.608639240265  0.105242662132  0.0857971906662         55   \n",
       "3  0.209101587534  0.158047914505   0.991388976574         46   \n",
       "4  0.680889248848  0.449430823326   0.170126751065          7   \n",
       "\n",
       "                                                 url  \n",
       "0  ./../data/ludwig-music-dataset-moods-and-subge...  \n",
       "1  ./../data/ludwig-music-dataset-moods-and-subge...  \n",
       "2  ./../data/ludwig-music-dataset-moods-and-subge...  \n",
       "3  ./../data/ludwig-music-dataset-moods-and-subge...  \n",
       "4  ./../data/ludwig-music-dataset-moods-and-subge...  "
      ]
     },
     "execution_count": 21,
     "metadata": {},
     "output_type": "execute_result"
    }
   ],
   "source": [
    "metadata = data_set.select_columns([\"index\", \"id\"]) \\\n",
    "    .to_pandas() \\\n",
    "    .merge(right=labels, how=\"left\", left_on=\"id\", right_on=\"index\") \\\n",
    "    .merge(right=music_paths, how=\"left\", left_on=\"id\", right_on=\"id\") \\\n",
    "    .drop(\"index_y\", axis=1) \\\n",
    "    .rename({\"index_x\": \"index\"}, axis=1)\n",
    "\n",
    "metadata.head()"
   ]
  },
  {
   "cell_type": "markdown",
   "metadata": {},
   "source": [
    "## Create the payloads for each vector"
   ]
  },
  {
   "cell_type": "code",
   "execution_count": 22,
   "metadata": {},
   "outputs": [
    {
     "data": {
      "text/plain": [
       "[{'artist': 'Pendulum',\n",
       "  'genre': 'electronic',\n",
       "  'name': 'Different',\n",
       "  'subgenres': ['electronic---drum n bass'],\n",
       "  'sad': '0.159620672464',\n",
       "  'happy': '0.257579416037',\n",
       "  'party': '0.977688491344',\n",
       "  'popularity': '41',\n",
       "  'url': './../data/ludwig-music-dataset-moods-and-subgenres/mp3/mp3/electronic/0vsOxIBK36keLH8Bezie9A.mp3'},\n",
       " {'artist': 'Nightmares On Wax',\n",
       "  'genre': 'electronic',\n",
       "  'name': 'Be, I Do',\n",
       "  'subgenres': ['electronic---downtempo',\n",
       "   'electronic---trip hop',\n",
       "   'hip hop---trip hop'],\n",
       "  'sad': '0.313051044941',\n",
       "  'happy': '0.187118664384',\n",
       "  'party': '0.399286955595',\n",
       "  'popularity': '44',\n",
       "  'url': './../data/ludwig-music-dataset-moods-and-subgenres/mp3/mp3/electronic/0jmfiZP6MBtrORE1vpvFWU.mp3'},\n",
       " {'artist': 'Slow Magic',\n",
       "  'genre': 'electronic',\n",
       "  'name': 'Waited 4 U',\n",
       "  'subgenres': ['electronic---electro'],\n",
       "  'sad': '0.608639240265',\n",
       "  'happy': '0.105242662132',\n",
       "  'party': '0.0857971906662',\n",
       "  'popularity': '55',\n",
       "  'url': './../data/ludwig-music-dataset-moods-and-subgenres/mp3/mp3/electronic/3ddxZzCKZpTObDygewlwXB.mp3'}]"
      ]
     },
     "execution_count": 22,
     "metadata": {},
     "output_type": "execute_result"
    }
   ],
   "source": [
    "payload = metadata.drop([\"index\", \"id\"], axis=1).to_dict(orient=\"records\")\n",
    "payload[:3]"
   ]
  },
  {
   "cell_type": "markdown",
   "metadata": {},
   "source": [
    "### Embeddings creation"
   ]
  },
  {
   "cell_type": "code",
   "execution_count": 23,
   "metadata": {},
   "outputs": [
    {
     "name": "stdout",
     "output_type": "stream",
     "text": [
      "Checkpoint path: /Users/julian_castro/panns_data/Cnn14_mAP=0.431.pth\n"
     ]
    },
    {
     "name": "stderr",
     "output_type": "stream",
     "text": [
      "/Users/julian_castro/Library/Caches/pypoetry/virtualenvs/audio-app-SXhKY1sN-py3.9/lib/python3.9/site-packages/panns_inference/inference.py:55: FutureWarning: You are using `torch.load` with `weights_only=False` (the current default value), which uses the default pickle module implicitly. It is possible to construct malicious pickle data which will execute arbitrary code during unpickling (See https://github.com/pytorch/pytorch/blob/main/SECURITY.md#untrusted-models for more details). In a future release, the default value for `weights_only` will be flipped to `True`. This limits the functions that could be executed during unpickling. Arbitrary objects will no longer be allowed to be loaded via this mode unless they are explicitly allowlisted by the user via `torch.serialization.add_safe_globals`. We recommend you start setting `weights_only=True` for any use case where you don't have full control of the loaded file. Please open an issue on GitHub for any issues related to this experimental feature.\n",
      "  checkpoint = torch.load(checkpoint_path, map_location=self.device)\n"
     ]
    },
    {
     "name": "stdout",
     "output_type": "stream",
     "text": [
      "Using CPU.\n"
     ]
    }
   ],
   "source": [
    "audio_tagging = AudioTagging(checkpoint_path=None, device=\"cpu\")"
   ]
  },
  {
   "cell_type": "code",
   "execution_count": 24,
   "metadata": {},
   "outputs": [],
   "source": [
    "def get_embeddings(batch: dict):\n",
    "    arrays = [torch.tensor(v['array'], dtype=torch.float64) for v in batch['audio']]\n",
    "    inputs = torch.nn.utils.rnn.pad_sequence(arrays, batch_first=True, padding_value=0).type(torch.FloatTensor)\n",
    "    with torch.no_grad():\n",
    "        _, embedding = audio_tagging.inference(inputs)\n",
    "    \n",
    "    batch[\"panns_embeddings\"] = embedding\n",
    "    return batch"
   ]
  },
  {
   "cell_type": "code",
   "execution_count": 25,
   "metadata": {},
   "outputs": [
    {
     "name": "stderr",
     "output_type": "stream",
     "text": [
      "Map: 100%|██████████| 650/650 [12:41<00:00,  1.17s/ examples]\n"
     ]
    }
   ],
   "source": [
    "with torch.inference_mode():\n",
    "    data_set = data_set.map(get_embeddings, batched=True, batch_size=8)"
   ]
  },
  {
   "cell_type": "code",
   "execution_count": 26,
   "metadata": {},
   "outputs": [
    {
     "name": "stderr",
     "output_type": "stream",
     "text": [
      "/var/folders/6s/txq2rxns75g_2h8y8s20ttxw0000gn/T/ipykernel_49295/3729632354.py:4: DeprecationWarning: `recreate_collection` method is deprecated and will be removed in the future. Use `collection_exists` to check collection existence and `create_collection` instead.\n",
      "  client.recreate_collection(\n"
     ]
    },
    {
     "data": {
      "text/plain": [
       "True"
      ]
     },
     "execution_count": 26,
     "metadata": {},
     "output_type": "execute_result"
    }
   ],
   "source": [
    "client = QdrantClient(\"http://localhost:6333\")\n",
    "\n",
    "COLLECTION_NAME = \"music_collection\"\n",
    "client.recreate_collection(\n",
    "    collection_name=COLLECTION_NAME,\n",
    "    vectors_config=models.VectorParams(size=2048, distance=models.Distance.COSINE)\n",
    ")"
   ]
  },
  {
   "cell_type": "code",
   "execution_count": 27,
   "metadata": {},
   "outputs": [
    {
     "data": {
      "text/plain": [
       "UpdateResult(operation_id=0, status=<UpdateStatus.COMPLETED: 'completed'>)"
      ]
     },
     "execution_count": 27,
     "metadata": {},
     "output_type": "execute_result"
    }
   ],
   "source": [
    "ds_pandas = data_set.to_pandas()\n",
    "\n",
    "client.upsert(\n",
    "    collection_name=COLLECTION_NAME,\n",
    "    points=models.Batch(\n",
    "        ids=ds_pandas[\"index\"],\n",
    "        vectors=ds_pandas[\"panns_embeddings\"],\n",
    "        payloads=payload\n",
    "    )\n",
    ")"
   ]
  },
  {
   "cell_type": "code",
   "execution_count": 43,
   "metadata": {},
   "outputs": [
    {
     "data": {
      "text/plain": [
       "[Record(id=420, payload={'artist': 'Elvis Presley', 'genre': 'pop', 'name': 'Burning Love', 'subgenres': ['pop---ballad', 'rock---pop rock'], 'sad': '0.197843462229', 'happy': '0.797862350941', 'party': '0.57128059864', 'popularity': '73', 'url': './../data/ludwig-music-dataset-moods-and-subgenres/mp3/mp3/pop/7zMUCLm1TN9o9JlLISztxO.mp3'}, vector=None, shard_key=None, order_value=None)]"
      ]
     },
     "execution_count": 43,
     "metadata": {},
     "output_type": "execute_result"
    }
   ],
   "source": [
    "result = client.retrieve(\n",
    "    collection_name=COLLECTION_NAME,\n",
    "    ids=[420]\n",
    ")\n",
    "\n",
    "result"
   ]
  },
  {
   "cell_type": "code",
   "execution_count": 45,
   "metadata": {},
   "outputs": [
    {
     "name": "stdout",
     "output_type": "stream",
     "text": [
      "audio               {'bytes': b'RIFF$\\\\(\\x00WAVEfmt \\x10\\x00\\x00\\x...\n",
      "index                                                             420\n",
      "id                                             7zMUCLm1TN9o9JlLISztxO\n",
      "panns_embeddings    [0.0, 0.0, 0.0, 0.0, 0.0, 0.0, 0.0, 0.0, 0.0, ...\n",
      "Name: 420, dtype: object\n"
     ]
    },
    {
     "data": {
      "text/plain": [
       "[ScoredPoint(id=420, version=0, score=1.0, payload={'artist': 'Elvis Presley', 'genre': 'pop', 'name': 'Burning Love', 'subgenres': ['pop---ballad', 'rock---pop rock'], 'sad': '0.197843462229', 'happy': '0.797862350941', 'party': '0.57128059864', 'popularity': '73', 'url': './../data/ludwig-music-dataset-moods-and-subgenres/mp3/mp3/pop/7zMUCLm1TN9o9JlLISztxO.mp3'}, vector=None, shard_key=None, order_value=None),\n",
       " ScoredPoint(id=213, version=0, score=0.96168196, payload={'artist': 'Chicago', 'genre': 'rock', 'name': 'The American Dream', 'subgenres': ['rock---pop rock'], 'sad': '0.0994533225894', 'happy': '0.861504614353', 'party': '0.0000157784197654', 'popularity': '9', 'url': './../data/ludwig-music-dataset-moods-and-subgenres/mp3/mp3/rock/5u9vhCMHqFfVW1QrOFX0ka.mp3'}, vector=None, shard_key=None, order_value=None),\n",
       " ScoredPoint(id=638, version=0, score=0.9250487, payload={'artist': 'Sin Bandera', 'genre': 'latin', 'name': 'Lo Ves', 'subgenres': ['latin---salsa', 'pop---ballad'], 'sad': '0.406918823719', 'happy': '0.292386829853', 'party': '0.231163442135', 'popularity': '36', 'url': './../data/ludwig-music-dataset-moods-and-subgenres/mp3/mp3/latin/5uM6WALkccA3p8leJVeu0O.mp3'}, vector=None, shard_key=None, order_value=None),\n",
       " ScoredPoint(id=471, version=0, score=0.92206866, payload={'artist': 'Angel Olsen', 'genre': 'pop', 'name': 'Never Be Mine', 'subgenres': ['pop---indie pop'], 'sad': '0.562627136707', 'happy': '0.371761709452', 'party': '0.227303907275', 'popularity': '49', 'url': './../data/ludwig-music-dataset-moods-and-subgenres/mp3/mp3/pop/5cvTKdW4vEHhpcHLOG8swK.mp3'}, vector=None, shard_key=None, order_value=None),\n",
       " ScoredPoint(id=588, version=0, score=0.91408855, payload={'artist': 'Vanessa da Mata', 'genre': 'latin', 'name': 'Quem irá nos proteger', 'subgenres': ['latin---samba'], 'sad': '0.192192658782', 'happy': '0.488415241241', 'party': '0.0000157784197654', 'popularity': '32', 'url': './../data/ludwig-music-dataset-moods-and-subgenres/mp3/mp3/latin/4WV8RJLx92v9ZZrJPzbryT.mp3'}, vector=None, shard_key=None, order_value=None)]"
      ]
     },
     "execution_count": 45,
     "metadata": {},
     "output_type": "execute_result"
    }
   ],
   "source": [
    "print(ds_pandas.iloc[420])\n",
    "\n",
    "client.search(\n",
    "    collection_name=COLLECTION_NAME,\n",
    "    query_vector=ds_pandas.iloc[420][\"panns_embeddings\"],\n",
    "    limit=5\n",
    ")"
   ]
  }
 ],
 "metadata": {
  "kernelspec": {
   "display_name": "audio-app-SXhKY1sN-py3.9",
   "language": "python",
   "name": "python3"
  },
  "language_info": {
   "codemirror_mode": {
    "name": "ipython",
    "version": 3
   },
   "file_extension": ".py",
   "mimetype": "text/x-python",
   "name": "python",
   "nbconvert_exporter": "python",
   "pygments_lexer": "ipython3",
   "version": "3.9.20"
  }
 },
 "nbformat": 4,
 "nbformat_minor": 4
}
